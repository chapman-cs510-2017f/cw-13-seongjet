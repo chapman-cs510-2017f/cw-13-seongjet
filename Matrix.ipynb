{
 "cells": [
  {
   "cell_type": "markdown",
   "metadata": {
    "collapsed": false
   },
   "source": [
    "## Explain Code\n",
    "The code defines a matrix class using a library <vector>. The matrix class has three properities: vector mat, which is used to store the matrix by vector's vector; rows, cols, which are the rows and cols number in the matrix respectively.\n",
    "    \n",
    "This class has the \"rule of 3\" methods: constructor, copy-constructor, assignment constructor. In addition, it defines other 4 methods: additon operator, selection operator, get_rows, get_cols. \n",
    "\n",
    "## Explain what a template is in C++, and what it allows that is impossible in C.\n",
    "The type of the matrix class is a templete so It can allows an arbitrary type T to be passed into a class as a parameter, so a single class definition can apply to different types. \n",
    "\n",
    "## Explain what operator-overloading is, and which operators are overloaded here.\n",
    "This feature in C++ programming that allows programmer to redefine the meaning of an operator (when they operate on class objects) is known as operator overloading. addition + and selection () are overloaded here.\n",
    "\n",
    "## Create a new method print() that prints the matrix to the screen. You may use the code in test_matrix.cc to get you started. Refactor test_matrix.cc to use your new method.\n",
    "\n",
    "\n",
    "## Create a new method that multiplies two matrices together, by overloading the * operator. Test this method in test_matrix.cc.\n",
    "## Create a new method that adds a scalar value of type T to the matrix element-by-element, by overloading the + operator. Test this method in test_matrix.cc.\n",
    "## Create a new method save(string filename) that saves the matrix to a comma-separated-value (CSV) file, with one row per line."
   ]
  }
 ],
 "metadata": {
  "kernelspec": {
   "display_name": "R (R-Project)",
   "language": "r",
   "name": "ir"
  }
 },
 "nbformat": 4,
 "nbformat_minor": 0
}