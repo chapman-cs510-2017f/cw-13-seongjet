{
 "cells": [
  {
   "cell_type": "markdown",
   "metadata": {
    "collapsed": false
   },
   "source": [
    "#### Explain the code in detail. How does this code compare in complexity to the code you wrote for Stack and Queue?\n",
    "\n",
    "The code in boost_matrix.cc is much more concise, compared to Stack and Queue. It performs many functions through uBLAS library. Knowing and using libraries properly are essential to be an effective C++ programmer. <br>\n",
    "\n",
    "The code includes uBLAS library and define its namespace. And it declares three 3x3 matrix variables using uBLAS's matrix type. It declares the matrix's each element as `complex<long double>` type. After the matrix t variables are defined, it uses double for-loops to fill the elements to each place in the matrix. It uses plus (+), multiplication (\\*), and pow for mathematic operation. Finally, it prints all three matrices as a result.  \n",
    "\n",
    "#### Explain what the notation `<type>` means in, e.g., `complex<long double>`.\n",
    "It defines the type of the matrix element. For example, `complex<long double>` is a complex number with floating point type that is larger than or equal to type double.\n",
    "    \n",
    "#### Are BLAS matrices row-major or column-major? How can you tell based on how the code is written?\n",
    "BLAS can have two variants: row-major and column-major. However, the code is based on the row-major. The row index is looped in the outer side and rows are stored contiguously in memory in a matrix.\n",
    "\n",
    "#### Write a new program that uses BLAS to create a complex plane in a similar way to your python code from before. Print the resulting matrix of complex numbers to the screen in a pretty way to demonstrate that your code works\n",
    "See the output below.\n",
    "        "
   ]
  },
  {
   "cell_type": "code",
   "execution_count": 3,
   "metadata": {
    "collapsed": false
   },
   "outputs": [
    {
     "name": "stdout",
     "output_type": "stream",
     "text": [
      "m:\n"
     ]
    },
    {
     "name": "stdout",
     "output_type": "stream",
     "text": [
      "[3,3](((0,0),(1,0),(2,0)),((3,0),(4,0),(5,0)),((6,0),(7,0),(8,0)))\n"
     ]
    },
    {
     "name": "stdout",
     "output_type": "stream",
     "text": [
      "\n"
     ]
    },
    {
     "name": "stdout",
     "output_type": "stream",
     "text": [
      "n:\n"
     ]
    },
    {
     "name": "stdout",
     "output_type": "stream",
     "text": [
      "[3,3](((0,0),(0,1),(0,2)),((1,0),(1,1),(1,2)),((2,0),(2,1),(2,2)))\n"
     ]
    },
    {
     "name": "stdout",
     "output_type": "stream",
     "text": [
      "\n"
     ]
    },
    {
     "name": "stdout",
     "output_type": "stream",
     "text": [
      "o:\n"
     ]
    },
    {
     "name": "stdout",
     "output_type": "stream",
     "text": [
      "[3,3](((0,0),(-1,0),(-4,0)),((1,0),(0,2),(-3,4)),((4,0),(3,4),(0,8)))\n"
     ]
    },
    {
     "name": "stdout",
     "output_type": "stream",
     "text": [
      "\n"
     ]
    },
    {
     "name": "stdout",
     "output_type": "stream",
     "text": [
      "m + n:\n"
     ]
    },
    {
     "name": "stdout",
     "output_type": "stream",
     "text": [
      "[3,3](((0,0),(1,1),(2,2)),((4,0),(5,1),(6,2)),((8,0),(9,1),(10,2)))\n"
     ]
    },
    {
     "name": "stdout",
     "output_type": "stream",
     "text": [
      "\n"
     ]
    },
    {
     "name": "stdout",
     "output_type": "stream",
     "text": [
      "m * n:\n"
     ]
    },
    {
     "name": "stdout",
     "output_type": "stream",
     "text": [
      "[3,3](((5,0),(5,3),(5,6)),((14,0),(14,12),(14,24)),((23,0),(23,21),(23,42)))\n"
     ]
    },
    {
     "name": "stdout",
     "output_type": "stream",
     "text": [
      "\n"
     ]
    },
    {
     "name": "stdout",
     "output_type": "stream",
     "text": [
      "n * n - o:\n"
     ]
    },
    {
     "name": "stdout",
     "output_type": "stream",
     "text": [
      "[3,3](((0,5),(-2,5),(-2,5)),((2,5),(0,6),(0,7)),((2,5),(0,7),(0,9)))\n"
     ]
    },
    {
     "name": "stdout",
     "output_type": "stream",
     "text": [
      "\n"
     ]
    },
    {
     "name": "stdout",
     "output_type": "stream",
     "text": [
      "complex plane:\n"
     ]
    },
    {
     "name": "stdout",
     "output_type": "stream",
     "text": [
      "| (2,-2) | (2,-1) | (2,0) | (2,1) | (2,2) | \n"
     ]
    },
    {
     "name": "stdout",
     "output_type": "stream",
     "text": [
      "| (1,-2) | (1,-1) | (1,0) | (1,1) | (1,2) | \n"
     ]
    },
    {
     "name": "stdout",
     "output_type": "stream",
     "text": [
      "| (0,-2) | (0,-1) | (0,0) | (0,1) | (0,2) | \n"
     ]
    },
    {
     "name": "stdout",
     "output_type": "stream",
     "text": [
      "| (-1,-2) | (-1,-1) | (-1,0) | (-1,1) | (-1,2) | \n"
     ]
    },
    {
     "name": "stdout",
     "output_type": "stream",
     "text": [
      "| (-2,-2) | (-2,-1) | (-2,0) | (-2,1) | (-2,2) | \n"
     ]
    }
   ],
   "source": [
    "./bin/boost_matrix\n"
   ]
  },
  {
   "cell_type": "code",
   "execution_count": 0,
   "metadata": {
    "collapsed": false
   },
   "outputs": [
   ],
   "source": [
   ]
  }
 ],
 "metadata": {
  "kernelspec": {
   "display_name": "Bash (Linux)",
   "language": "bash",
   "name": "bash"
  },
  "language_info": {
   "codemirror_mode": "shell",
   "file_extension": ".sh",
   "mimetype": "text/x-sh",
   "name": "bash"
  }
 },
 "nbformat": 4,
 "nbformat_minor": 0
}